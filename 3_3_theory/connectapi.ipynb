{
 "cells": [
  {
   "cell_type": "markdown",
   "metadata": {},
   "source": [
    "# Отправка запросов"
   ]
  },
  {
   "cell_type": "markdown",
   "metadata": {},
   "source": [
    "## Простой способ это использование requests"
   ]
  },
  {
   "cell_type": "code",
   "execution_count": 2,
   "metadata": {},
   "outputs": [],
   "source": [
    "import requests"
   ]
  },
  {
   "cell_type": "code",
   "execution_count": 3,
   "metadata": {},
   "outputs": [],
   "source": [
    "url = 'https://api.example.com/data'"
   ]
  },
  {
   "cell_type": "code",
   "execution_count": 5,
   "metadata": {},
   "outputs": [],
   "source": [
    "url = 'https://data.1t.ru/user/my-course/236/1241/13536'"
   ]
  },
  {
   "cell_type": "code",
   "execution_count": 6,
   "metadata": {},
   "outputs": [],
   "source": [
    "# отправка GET-запроса\n",
    "response = requests.get(url)"
   ]
  },
  {
   "cell_type": "code",
   "execution_count": 11,
   "metadata": {},
   "outputs": [
    {
     "name": "stdout",
     "output_type": "stream",
     "text": [
      "<!DOCTYPE html><html><head><base href=/ ><title>1T Data</title><meta charset=utf-8><meta name=description content=\"1Ð¢ Data. ÐÐ½Ð»Ð°Ð¹Ð½-ÐºÑÑÑÑ Ð¿Ð¾ Ð¸ÑÐºÑÑÑÑÐ²ÐµÐ½Ð½Ð¾Ð¼Ñ Ð¸Ð½ÑÐµÐ»Ð»ÐµÐºÑÑ Ð·Ð° ÑÑÐµÑ Ð³Ð¾ÑÑÐ´Ð°ÑÑÑÐ²Ð°\"><meta name=format-detection content=\"telephone=no\"><meta name=msapplication-tap-highlight content=no><meta name=google value=notranslate><meta name=viewport content=\"user-scalable=no,initial-scale=1,maximum-scale=1,minimum-scale=1,width=device-width\"><meta property=og:image content=images/cover.jpg><meta property=vk:image content=images/cover.jpg><meta property=fb:image content=images/cover.jpg><meta property=twitter:image content=images/cover.jpg><meta property=og:title content=\"1T Data\"><meta property=og:description content=\"1T Data. ÐÐ½Ð»Ð°Ð¹Ð½-ÐºÑÑÑÑ Ð¿Ð¾ Ð¸ÑÐºÑÑÑÑÐ²ÐµÐ½Ð½Ð¾Ð¼Ñ Ð¸Ð½ÑÐµÐ»Ð»ÐµÐºÑÑ Ð·Ð° ÑÑÐµÑ Ð³Ð¾ÑÑÐ´Ð°ÑÑÑÐ²Ð°\"><meta property=og:type content=page><meta property=og:url content=https://data.1t.ru><meta property=og:site_name content=\"1T Data\"><link id=favicon rel=icon sizes=120x120 type=image/svg+xml href=icons/favicon.svg><script src=https://adaptogen-server.1t.ru/adaptogen-viewer/dist/adaptogen.js></script><script src=https://cdnjs.cloudflare.com/ajax/libs/blueimp-md5/2.18.0/js/md5.min.js></script><script src=https://cdnjs.cloudflare.com/ajax/libs/crypto-js/3.1.9-1/crypto-js.js></script><script src=https://start.1t.ru/api/enc.js></script><script src=https://apis.google.com/js/api.js></script><script>(function(m,e,t,r,i,k,a){m[i]=m[i]||function(){(m[i].a=m[i].a||[]).push(arguments)};\n",
      "        m[i].l=1*new Date();\n",
      "        for (var j = 0; j < document.scripts.length; j++) {if (document.scripts[j].src === r) { return; }}\n",
      "        k=e.createElement(t),a=e.getElementsByTagName(t)[0],k.async=1,k.src=r,a.parentNode.insertBefore(k,a)})\n",
      "      (window, document, \"script\", \"https://mc.yandex.ru/metrika/tag.js\", \"ym\");\n",
      "\n",
      "      ym(89532148, \"init\", {\n",
      "        clickmap:true,\n",
      "        trackLinks:true,\n",
      "        accurateTrackBounce:true,\n",
      "        webvisor:true\n",
      "      });</script><noscript><div><img src=https://mc.yandex.ru/watch/89532148 style=\"position:absolute; left:-9999px;\" alt=\"\"></div></noscript><script defer src=/js/vendor.fa37aee6.js></script><script defer src=/js/app.011c51cd.js></script><link href=/css/vendor.c144fcdd.css rel=stylesheet><link href=/css/app.5fb61092.css rel=stylesheet></head><body><div id=q-app></div></body></html>\n"
     ]
    }
   ],
   "source": [
    "data = response.text\n",
    "print(data)"
   ]
  },
  {
   "cell_type": "code",
   "execution_count": null,
   "metadata": {},
   "outputs": [],
   "source": [
    "data = response.json()"
   ]
  },
  {
   "cell_type": "markdown",
   "metadata": {},
   "source": [
    "Обработка данных"
   ]
  },
  {
   "cell_type": "markdown",
   "metadata": {},
   "source": [
    "## Использование urllib.request\n",
    "более низкоуровневая библиотека"
   ]
  },
  {
   "cell_type": "code",
   "execution_count": 12,
   "metadata": {},
   "outputs": [],
   "source": [
    "import urllib.request\n",
    "import json"
   ]
  },
  {
   "cell_type": "code",
   "execution_count": null,
   "metadata": {},
   "outputs": [],
   "source": [
    "url = 'https://api.example.com/data'"
   ]
  },
  {
   "cell_type": "code",
   "execution_count": null,
   "metadata": {},
   "outputs": [],
   "source": [
    "with urllib.request.urlopen(url) as response:\n",
    "    #чтение данных из ответа\n",
    "    data = response.read().decode('utf-8')\n",
    "\n",
    "    # Преобразование данных в формат JSON\n",
    "    json_data = json.loads(data)\n",
    "\n",
    "    # Обработка данных"
   ]
  },
  {
   "cell_type": "markdown",
   "metadata": {},
   "source": [
    "# Специфические библиотеки\n",
    "В зависимости от конкретного API могут быть доступны специальные библиотеки или SDK, которые предоставляют специальные методы для работы"
   ]
  }
 ],
 "metadata": {
  "kernelspec": {
   "display_name": ".venv",
   "language": "python",
   "name": "python3"
  },
  "language_info": {
   "codemirror_mode": {
    "name": "ipython",
    "version": 3
   },
   "file_extension": ".py",
   "mimetype": "text/x-python",
   "name": "python",
   "nbconvert_exporter": "python",
   "pygments_lexer": "ipython3",
   "version": "3.10.12"
  }
 },
 "nbformat": 4,
 "nbformat_minor": 2
}

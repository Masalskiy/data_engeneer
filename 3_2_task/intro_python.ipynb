{
  "cells": [
    {
      "attachments": {},
      "cell_type": "markdown",
      "metadata": {
        "id": "awD_oBRJNOC0"
      },
      "source": [
        "# Описание типов и структур данных Python"
      ]
    },
    {
      "attachments": {},
      "cell_type": "markdown",
      "metadata": {},
      "source": [
        "## Стандартные вычислительные операции"
      ]
    },
    {
      "cell_type": "code",
      "execution_count": 4,
      "metadata": {
        "colab": {
          "base_uri": "https://localhost:8080/"
        },
        "id": "6ZGIKRtMNOC3",
        "outputId": "901131b1-e1f7-457d-9ebb-2738cd09b8cc"
      },
      "outputs": [
        {
          "data": {
            "text/plain": [
              "0.6666666666666666"
            ]
          },
          "execution_count": 4,
          "metadata": {},
          "output_type": "execute_result"
        }
      ],
      "source": [
        "2/3"
      ]
    },
    {
      "cell_type": "code",
      "execution_count": 9,
      "metadata": {
        "colab": {
          "base_uri": "https://localhost:8080/"
        },
        "id": "ABqi0e1HNOC7",
        "outputId": "e850b68b-0559-428e-c2c4-174c25cd6351"
      },
      "outputs": [
        {
          "data": {
            "text/plain": [
              "3.0000000000000004"
            ]
          },
          "execution_count": 9,
          "metadata": {},
          "output_type": "execute_result"
        }
      ],
      "source": [
        "3 + 0.0000000000000005"
      ]
    },
    {
      "cell_type": "code",
      "execution_count": 10,
      "metadata": {
        "colab": {
          "base_uri": "https://localhost:8080/"
        },
        "id": "2IAhqEUMNOC8",
        "outputId": "e43020ef-1b3a-4ac3-91a2-ba179f19e7d6"
      },
      "outputs": [
        {
          "data": {
            "text/plain": [
              "1.0000000000000004"
            ]
          },
          "execution_count": 10,
          "metadata": {},
          "output_type": "execute_result"
        }
      ],
      "source": [
        "1 + .0000000000000005"
      ]
    },
    {
      "cell_type": "code",
      "execution_count": 4,
      "metadata": {
        "colab": {
          "base_uri": "https://localhost:8080/"
        },
        "id": "-xUH3N4-NOC8",
        "outputId": "8551c1b4-d19f-467a-8be9-0d3b16c92d40"
      },
      "outputs": [
        {
          "data": {
            "text/plain": [
              "3"
            ]
          },
          "execution_count": 4,
          "metadata": {},
          "output_type": "execute_result"
        }
      ],
      "source": [
        "10//3 "
      ]
    },
    {
      "cell_type": "code",
      "execution_count": 2,
      "metadata": {
        "colab": {
          "base_uri": "https://localhost:8080/"
        },
        "id": "2jTEZ4fXNOC8",
        "outputId": "826cf086-3460-4309-a19b-a8ffc25718ab"
      },
      "outputs": [
        {
          "data": {
            "text/plain": [
              "2.0"
            ]
          },
          "execution_count": 2,
          "metadata": {},
          "output_type": "execute_result"
        }
      ],
      "source": [
        "10.5 // 3.6"
      ]
    },
    {
      "cell_type": "code",
      "execution_count": 13,
      "metadata": {
        "colab": {
          "base_uri": "https://localhost:8080/"
        },
        "id": "j-SwfUJcNOC9",
        "outputId": "ef1c683e-dc09-459d-f7bd-017212882aca"
      },
      "outputs": [
        {
          "data": {
            "text/plain": [
              "-4"
            ]
          },
          "execution_count": 13,
          "metadata": {},
          "output_type": "execute_result"
        }
      ],
      "source": [
        "(-10)//3 # Python округляет в меньшую сторону"
      ]
    },
    {
      "cell_type": "code",
      "execution_count": 17,
      "metadata": {},
      "outputs": [
        {
          "data": {
            "text/plain": [
              "-3.3333333333333335"
            ]
          },
          "execution_count": 17,
          "metadata": {},
          "output_type": "execute_result"
        }
      ],
      "source": [
        "-10/3"
      ]
    },
    {
      "cell_type": "code",
      "execution_count": 21,
      "metadata": {
        "colab": {
          "base_uri": "https://localhost:8080/"
        },
        "id": "gfXgM6bxNOC-",
        "outputId": "d6688af5-710c-4204-86cd-b57a7c47010d"
      },
      "outputs": [
        {
          "data": {
            "text/plain": [
              "10000000000000000000000000000000000000000000000000000000000000000000000000000000000000000000000000000000000000000000000000000000000000000000000000000000000000000000000000000000000000000000000000000000000000000000000000000000000000000000000000000000000000000000000000000000000000000000000000000000000000000000000000000000000000000000000000000000000000000000000000000000000000000000000000000000000000000000000000000000000000000000000000000000000000000000000000000000000000000000000000000000000000000000000000000000000000000000000000000000000000000000000000000000000000000000000000000000000000000000000000000000000000000000000000000000000000000000000000000000000000000000000000000000000000000000000000000000000000000000000000000000000000000000000000000000000000000000000000000000000000000000000000000000000000000000000000000000000000000000000000000000000000000000000000000000000000000000000000000000000000000000000000000000000000000000000000000000000000000000000000000000000000000000000000000000000000000"
            ]
          },
          "execution_count": 21,
          "metadata": {},
          "output_type": "execute_result"
        }
      ],
      "source": [
        "10**1000"
      ]
    },
    {
      "cell_type": "code",
      "execution_count": 22,
      "metadata": {
        "colab": {
          "base_uri": "https://localhost:8080/"
        },
        "id": "OEEEtFTSNOC-",
        "outputId": "a3bbfe21-dc9f-476b-d23a-e2c9023e4307"
      },
      "outputs": [
        {
          "data": {
            "text/plain": [
              "1e+100"
            ]
          },
          "execution_count": 22,
          "metadata": {},
          "output_type": "execute_result"
        }
      ],
      "source": [
        "10.0**100"
      ]
    },
    {
      "cell_type": "code",
      "execution_count": 25,
      "metadata": {
        "colab": {
          "base_uri": "https://localhost:8080/"
        },
        "id": "TZ9tsAqrNODA",
        "outputId": "c8dc55fc-7184-4ee9-f0c0-5e6e25ae913e"
      },
      "outputs": [
        {
          "data": {
            "text/plain": [
              "(2, 7)"
            ]
          },
          "execution_count": 25,
          "metadata": {},
          "output_type": "execute_result"
        }
      ],
      "source": [
        "x, y"
      ]
    },
    {
      "cell_type": "code",
      "execution_count": 30,
      "metadata": {
        "id": "A534yKD9NODB"
      },
      "outputs": [
        {
          "name": "stdout",
          "output_type": "stream",
          "text": [
            "5\n"
          ]
        }
      ],
      "source": [
        "# Это то же самое что и в примере выше, только короче\n",
        "x = 2\n",
        "x += 3 \n",
        "print(x)"
      ]
    },
    {
      "attachments": {},
      "cell_type": "markdown",
      "metadata": {
        "id": "UtVEi0PCNODB"
      },
      "source": [
        "# Типы данных"
      ]
    },
    {
      "attachments": {},
      "cell_type": "markdown",
      "metadata": {},
      "source": [
        "## Числовой тип данных"
      ]
    },
    {
      "cell_type": "code",
      "execution_count": 36,
      "metadata": {
        "colab": {
          "base_uri": "https://localhost:8080/"
        },
        "id": "blTyiPJPNODB",
        "outputId": "4190809c-4ad1-4b26-c559-7c42d7c2eb16"
      },
      "outputs": [],
      "source": [
        "# В данном случае мы специально выбрали такие названия для наглядности, в реальной задаче вы можете использовать любые названия переменных, но с некоторыми ограничениями\n",
        "int_number = 5 # Числовой тип данных\n",
        "float_number = 2.45 # Числовой тип данных с плавающей запятой\n",
        "string_sentence = 'Hello world!' # Строковый тип данных, который всегда пишется в кавычках!\n",
        "bool_type = True # Логический тип данных"
      ]
    },
    {
      "cell_type": "code",
      "execution_count": 39,
      "metadata": {
        "colab": {
          "base_uri": "https://localhost:8080/"
        },
        "id": "JWPC3GogNODB",
        "outputId": "948f29fa-1d3c-44df-c1df-e7fb6e94c9b0"
      },
      "outputs": [
        {
          "data": {
            "text/plain": [
              "int"
            ]
          },
          "execution_count": 39,
          "metadata": {},
          "output_type": "execute_result"
        }
      ],
      "source": [
        "type(int_number)"
      ]
    },
    {
      "cell_type": "code",
      "execution_count": 40,
      "metadata": {},
      "outputs": [
        {
          "data": {
            "text/plain": [
              "float"
            ]
          },
          "execution_count": 40,
          "metadata": {},
          "output_type": "execute_result"
        }
      ],
      "source": [
        "type(float_number)"
      ]
    },
    {
      "cell_type": "code",
      "execution_count": 41,
      "metadata": {},
      "outputs": [
        {
          "data": {
            "text/plain": [
              "str"
            ]
          },
          "execution_count": 41,
          "metadata": {},
          "output_type": "execute_result"
        }
      ],
      "source": [
        "type(string_sentence)"
      ]
    },
    {
      "cell_type": "code",
      "execution_count": 42,
      "metadata": {},
      "outputs": [
        {
          "data": {
            "text/plain": [
              "bool"
            ]
          },
          "execution_count": 42,
          "metadata": {},
          "output_type": "execute_result"
        }
      ],
      "source": [
        "type(bool_type)"
      ]
    },
    {
      "attachments": {},
      "cell_type": "markdown",
      "metadata": {
        "id": "zDmcocncNODD"
      },
      "source": [
        "## Строковые типы\n",
        "\n",
        "_Строка_ - неизменяемый контейнер символов"
      ]
    },
    {
      "cell_type": "code",
      "execution_count": 69,
      "metadata": {
        "colab": {
          "base_uri": "https://localhost:8080/",
          "height": 36
        },
        "id": "w6PHrjOaNODG",
        "outputId": "034a7161-b57a-4a00-c6fe-9aaf362df78f"
      },
      "outputs": [
        {
          "data": {
            "text/plain": [
              "'Hello World!Hello World!Hello World!'"
            ]
          },
          "execution_count": 69,
          "metadata": {},
          "output_type": "execute_result"
        }
      ],
      "source": [
        " # Строки можно умножать :)"
      ]
    },
    {
      "attachments": {},
      "cell_type": "markdown",
      "metadata": {
        "id": "DmE8uaeANODJ"
      },
      "source": [
        "## Булевский тип"
      ]
    },
    {
      "attachments": {},
      "cell_type": "markdown",
      "metadata": {},
      "source": [
        "`True` - в Python подразумевает как цифру 1, `False` - как цифру 0"
      ]
    },
    {
      "cell_type": "code",
      "execution_count": 93,
      "metadata": {
        "colab": {
          "base_uri": "https://localhost:8080/"
        },
        "id": "Su-djS_lNODK",
        "outputId": "b8a7dd2d-c61b-4ee5-b1b2-cf6c8a6983bb"
      },
      "outputs": [
        {
          "data": {
            "text/plain": [
              "bool"
            ]
          },
          "execution_count": 93,
          "metadata": {},
          "output_type": "execute_result"
        }
      ],
      "source": [
        "type(True)"
      ]
    },
    {
      "attachments": {},
      "cell_type": "markdown",
      "metadata": {
        "id": "13eJQCJYNODK"
      },
      "source": [
        "Сравнение: `==`   `!=`   `<`   `>`   `<=`   `>=`\n",
        "\n",
        "Логические связки: `not` `and` `or` "
      ]
    },
    {
      "cell_type": "code",
      "execution_count": 99,
      "metadata": {
        "colab": {
          "base_uri": "https://localhost:8080/"
        },
        "id": "hIJjd6F5NODK",
        "outputId": "c9807d73-d00f-400d-ddae-ec834359a554"
      },
      "outputs": [],
      "source": [
        "age = 49\n",
        "# print(Age < 18 or Age > 55)\n",
        "# print(Age >= 18 and Age <= 55)\n",
        "# print(18 <= Age <= 55)"
      ]
    },
    {
      "cell_type": "code",
      "execution_count": 6,
      "metadata": {
        "colab": {
          "base_uri": "https://localhost:8080/"
        },
        "id": "u_STGhsrNODK",
        "outputId": "cc10ba71-9ac3-4e93-a314-98b975d67104"
      },
      "outputs": [
        {
          "data": {
            "text/plain": [
              "True"
            ]
          },
          "execution_count": 6,
          "metadata": {},
          "output_type": "execute_result"
        }
      ],
      "source": [
        "True >= False"
      ]
    },
    {
      "cell_type": "code",
      "execution_count": 108,
      "metadata": {
        "colab": {
          "base_uri": "https://localhost:8080/"
        },
        "id": "313zbIyLNODK",
        "outputId": "de1cd92e-26b1-4221-d11b-4f7ef6671237"
      },
      "outputs": [
        {
          "data": {
            "text/plain": [
              "True"
            ]
          },
          "execution_count": 108,
          "metadata": {},
          "output_type": "execute_result"
        }
      ],
      "source": [
        "5 > 1 < 2"
      ]
    },
    {
      "cell_type": "code",
      "execution_count": 109,
      "metadata": {
        "colab": {
          "base_uri": "https://localhost:8080/"
        },
        "id": "vcE5xlYpNODK",
        "outputId": "6d971a1c-0d96-42fc-89c1-e6bd5e78eb88"
      },
      "outputs": [
        {
          "data": {
            "text/plain": [
              "True"
            ]
          },
          "execution_count": 109,
          "metadata": {},
          "output_type": "execute_result"
        }
      ],
      "source": [
        "'Вася' < 'Петр Иванович'"
      ]
    },
    {
      "attachments": {},
      "cell_type": "markdown",
      "metadata": {
        "id": "MiaDtiA8NODL"
      },
      "source": [
        "## Списки\n",
        "\n",
        "_Список_ (list) - изменяемый (mutable) контейнер. Обращение к элементу списка - по индексу."
      ]
    },
    {
      "cell_type": "code",
      "execution_count": 10,
      "metadata": {
        "colab": {
          "base_uri": "https://localhost:8080/"
        },
        "id": "DYHv4ssENODL",
        "outputId": "e2f3bf07-514b-463c-cbc2-6df2ea4291ec"
      },
      "outputs": [
        {
          "data": {
            "text/plain": [
              "[1, 2.0, 3, 'four', True, [123, 321]]"
            ]
          },
          "execution_count": 10,
          "metadata": {},
          "output_type": "execute_result"
        }
      ],
      "source": [
        "lst = [1, 2.0, 3, 'four', True, [123,321]]\n",
        "lst"
      ]
    },
    {
      "cell_type": "code",
      "execution_count": 118,
      "metadata": {
        "colab": {
          "base_uri": "https://localhost:8080/"
        },
        "id": "tkz2v55RNODL",
        "outputId": "e1009234-943d-4a28-ae91-450762f77976"
      },
      "outputs": [
        {
          "data": {
            "text/plain": [
              "321"
            ]
          },
          "execution_count": 118,
          "metadata": {},
          "output_type": "execute_result"
        }
      ],
      "source": [
        "lst[5][1]"
      ]
    },
    {
      "cell_type": "code",
      "execution_count": 129,
      "metadata": {
        "colab": {
          "base_uri": "https://localhost:8080/"
        },
        "id": "q8b5_f9BNODN",
        "outputId": "2397f294-e659-4485-e42f-8e011cc0a96a"
      },
      "outputs": [
        {
          "data": {
            "text/plain": [
              "['One', 2.0, [12, 'three'], 'four', True, [123, 321]]"
            ]
          },
          "execution_count": 129,
          "metadata": {},
          "output_type": "execute_result"
        }
      ],
      "source": [
        "lst[2] = [12, 'three'] # Можно добавить список в список!\n",
        "lst"
      ]
    },
    {
      "cell_type": "code",
      "execution_count": 143,
      "metadata": {
        "colab": {
          "base_uri": "https://localhost:8080/"
        },
        "id": "-n2Ui43YNODO",
        "outputId": "145359d6-71e7-4cb5-8717-073e5ffe22ba"
      },
      "outputs": [
        {
          "data": {
            "text/plain": [
              "[1, 2, 3, 4, 5, [1, 2, 3, 4], 1, 2, 3, 4, 5, [1, 2, 3, 4]]"
            ]
          },
          "execution_count": 143,
          "metadata": {},
          "output_type": "execute_result"
        }
      ],
      "source": [
        "lst + lst # Списки можно складывать! Работает почти также как со строками"
      ]
    },
    {
      "cell_type": "code",
      "execution_count": 11,
      "metadata": {
        "colab": {
          "base_uri": "https://localhost:8080/"
        },
        "id": "Zr9wg65WNODO",
        "outputId": "5fa1540f-5f84-4668-f531-ce50169784b6"
      },
      "outputs": [
        {
          "data": {
            "text/plain": [
              "[1, 2.0, 3, 'four', True, [123, 321], 1, 2.0, 3, 'four', True, [123, 321]]"
            ]
          },
          "execution_count": 11,
          "metadata": {},
          "output_type": "execute_result"
        }
      ],
      "source": [
        "2*lst # Можно сделать то же самое операцией сложения"
      ]
    },
    {
      "cell_type": "code",
      "execution_count": 153,
      "metadata": {
        "colab": {
          "base_uri": "https://localhost:8080/"
        },
        "id": "3jrHeWpMNODO",
        "outputId": "78aeeb0a-8b23-4ae8-cbae-95918abb8b3a"
      },
      "outputs": [
        {
          "name": "stdout",
          "output_type": "stream",
          "text": [
            "[0, 111, 2, 3, 4]\n",
            "[0, 111, 2, 3, 4]\n"
          ]
        }
      ],
      "source": [
        "lst = [0, 1, 2, 3, 4]\n",
        "lst2 = lst\n",
        "lst2[1] = 111  # lst меняется\n",
        "print(lst2)\n",
        "print(lst)"
      ]
    },
    {
      "cell_type": "code",
      "execution_count": 155,
      "metadata": {},
      "outputs": [],
      "source": [
        "lst3 = [1,2,3]"
      ]
    },
    {
      "cell_type": "code",
      "execution_count": 156,
      "metadata": {
        "colab": {
          "base_uri": "https://localhost:8080/"
        },
        "id": "71xtOZhfNODO",
        "outputId": "d992802d-5438-400d-c93f-f2486c7da0cf"
      },
      "outputs": [
        {
          "data": {
            "text/plain": [
              "False"
            ]
          },
          "execution_count": 156,
          "metadata": {},
          "output_type": "execute_result"
        }
      ],
      "source": [
        "lst3 is lst"
      ]
    },
    {
      "cell_type": "code",
      "execution_count": 166,
      "metadata": {
        "colab": {
          "base_uri": "https://localhost:8080/"
        },
        "id": "r5AT2VLiNODP",
        "outputId": "2a48cf29-a5d6-4c4c-a808-301c4dbba65c"
      },
      "outputs": [
        {
          "name": "stdout",
          "output_type": "stream",
          "text": [
            "[0, 11, 2, 3, 4]\n",
            "[0, 1, 2, 3, 4]\n"
          ]
        }
      ],
      "source": [
        "lst = [0, 1, 2, 3, 4]\n",
        "lst3 = lst[:]\n",
        "lst3[1] = 11\n",
        "print(lst3)\n",
        "print(lst)"
      ]
    },
    {
      "cell_type": "code",
      "execution_count": 167,
      "metadata": {
        "colab": {
          "base_uri": "https://localhost:8080/"
        },
        "id": "sF9F_G3iNODP",
        "outputId": "e1051797-cb0b-4dff-8df0-d7b0969cee4c"
      },
      "outputs": [
        {
          "data": {
            "text/plain": [
              "True"
            ]
          },
          "execution_count": 167,
          "metadata": {},
          "output_type": "execute_result"
        }
      ],
      "source": [
        "[1,2,3] == [1,2,3]"
      ]
    },
    {
      "cell_type": "code",
      "execution_count": 169,
      "metadata": {},
      "outputs": [],
      "source": [
        "a = [1,2,3]\n",
        "b = [1,2,3]"
      ]
    },
    {
      "cell_type": "code",
      "execution_count": 170,
      "metadata": {},
      "outputs": [
        {
          "data": {
            "text/plain": [
              "1998026163520"
            ]
          },
          "execution_count": 170,
          "metadata": {},
          "output_type": "execute_result"
        }
      ],
      "source": [
        "id(a)"
      ]
    },
    {
      "cell_type": "code",
      "execution_count": 171,
      "metadata": {},
      "outputs": [
        {
          "data": {
            "text/plain": [
              "1998026257600"
            ]
          },
          "execution_count": 171,
          "metadata": {},
          "output_type": "execute_result"
        }
      ],
      "source": [
        "id(b)"
      ]
    },
    {
      "cell_type": "code",
      "execution_count": 168,
      "metadata": {
        "colab": {
          "base_uri": "https://localhost:8080/"
        },
        "id": "GkSOk-IrNODP",
        "outputId": "85a3d042-b2ae-4e8b-a610-3bbd5673868c"
      },
      "outputs": [
        {
          "data": {
            "text/plain": [
              "False"
            ]
          },
          "execution_count": 168,
          "metadata": {},
          "output_type": "execute_result"
        }
      ],
      "source": [
        "[1,2,3] is [1,2,3]"
      ]
    },
    {
      "cell_type": "code",
      "execution_count": 172,
      "metadata": {
        "colab": {
          "base_uri": "https://localhost:8080/"
        },
        "id": "sc0ee6rZNODP",
        "outputId": "0a934a66-5412-4a78-811a-fccb8370207d"
      },
      "outputs": [
        {
          "data": {
            "text/plain": [
              "True"
            ]
          },
          "execution_count": 172,
          "metadata": {},
          "output_type": "execute_result"
        }
      ],
      "source": [
        "2==2"
      ]
    },
    {
      "cell_type": "code",
      "execution_count": 173,
      "metadata": {
        "colab": {
          "base_uri": "https://localhost:8080/"
        },
        "id": "bG5dZvAqNODQ",
        "outputId": "9c9461a2-b9ce-4df9-9cbd-4d00f2d4d9be"
      },
      "outputs": [
        {
          "data": {
            "text/plain": [
              "True"
            ]
          },
          "execution_count": 173,
          "metadata": {},
          "output_type": "execute_result"
        }
      ],
      "source": [
        "a=2\n",
        "b=2\n",
        "a is b"
      ]
    },
    {
      "cell_type": "code",
      "execution_count": 12,
      "metadata": {
        "id": "rbX09wOVNODS"
      },
      "outputs": [],
      "source": [
        "lst = []\n",
        "item = 2\n",
        "indx = 0"
      ]
    },
    {
      "attachments": {},
      "cell_type": "markdown",
      "metadata": {},
      "source": [
        "Существую различные методы которые можно применить к списку"
      ]
    },
    {
      "cell_type": "code",
      "execution_count": null,
      "metadata": {
        "id": "UY6DnsGmNODS"
      },
      "outputs": [],
      "source": [
        "lst.append(item)       # Вставить в конец\n",
        "lst.pop()              # Удалить последний и возвратить значение\n",
        "lst.insert(indx, item) # Вставка в указанную позицию\n",
        "lst.count(item)        # Найти количество вхождений значений в списке\n",
        "lst.index(item)        # Индекс первого вхождения значения в списке\n",
        "lst.remove(item)       # Удалить первое вхождение значения в список\n",
        "lst.sort()             # Сортировать список\n",
        "lst.reverse()          # Записать в обратном порядке"
      ]
    },
    {
      "attachments": {},
      "cell_type": "markdown",
      "metadata": {},
      "source": [
        "В Python сущетвуют встроенные функции, которые также можно применять к различным переменным, которые вы создали. Например: Вызов функции `min()` или `max()` осуществляется следующим образом:"
      ]
    },
    {
      "attachments": {},
      "cell_type": "markdown",
      "metadata": {
        "id": "z-d66XsnNODU"
      },
      "source": [
        "# Кортежи"
      ]
    },
    {
      "attachments": {},
      "cell_type": "markdown",
      "metadata": {
        "id": "WX9YhNpwNODU"
      },
      "source": [
        "_Кортеж_ (tuple) - неизменяемый (immutable) контейнер (в отличие от списка). В остальном они ведут себя так же, как списки."
      ]
    },
    {
      "cell_type": "code",
      "execution_count": 15,
      "metadata": {
        "colab": {
          "base_uri": "https://localhost:8080/"
        },
        "id": "AhrrjxHONODU",
        "outputId": "c001f919-bc62-4763-f9e0-023788db033a"
      },
      "outputs": [
        {
          "name": "stdout",
          "output_type": "stream",
          "text": [
            "(1, 2, 3, 'four')\n",
            "<class 'tuple'>\n"
          ]
        }
      ],
      "source": [
        "x = (1, 2, 3, 'four') # Скобки можно опустить\n",
        "print(x)\n",
        "print(type(x))"
      ]
    },
    {
      "cell_type": "code",
      "execution_count": 267,
      "metadata": {
        "colab": {
          "base_uri": "https://localhost:8080/"
        },
        "id": "-e73E7k2NODV",
        "outputId": "a442e4b2-71e0-466a-8993-411076ac0d57"
      },
      "outputs": [
        {
          "data": {
            "text/plain": [
              "tuple"
            ]
          },
          "execution_count": 267,
          "metadata": {},
          "output_type": "execute_result"
        }
      ],
      "source": [
        "type((1,))"
      ]
    },
    {
      "cell_type": "code",
      "execution_count": 275,
      "metadata": {
        "colab": {
          "base_uri": "https://localhost:8080/"
        },
        "id": "LCooZz_kNODW",
        "outputId": "b42be130-5c60-4142-fadb-b557c6f55601"
      },
      "outputs": [
        {
          "name": "stdout",
          "output_type": "stream",
          "text": [
            "1 123 123 3\n",
            "(123, 123) (1, 123, 123) (123, 123)\n"
          ]
        }
      ],
      "source": [
        "print(x[0], x[1], x[-1], len(x))\n",
        "print(x[1:3], x[:3], x[1:])  # Подкортежи"
      ]
    },
    {
      "cell_type": "code",
      "execution_count": 280,
      "metadata": {
        "id": "eqdRSpKUNODW"
      },
      "outputs": [],
      "source": [
        "# x[2] = 4               # Нельзя!\n",
        "#x[3:5] = [4, 5, 6]    # Нельзя!"
      ]
    },
    {
      "cell_type": "code",
      "execution_count": 281,
      "metadata": {
        "colab": {
          "base_uri": "https://localhost:8080/"
        },
        "id": "VQqZ4-osNODW",
        "outputId": "5242302f-4f63-4428-a79f-8d50966970cd"
      },
      "outputs": [
        {
          "data": {
            "text/plain": [
              "(1, 3, 5, 7, 2, 4, 6, 8)"
            ]
          },
          "execution_count": 281,
          "metadata": {},
          "output_type": "execute_result"
        }
      ],
      "source": [
        "y1 = (1, 3, 5, 7)\n",
        "y2 = (2, 4, 6, 8)\n",
        "y1 + y2                # Конкатенация"
      ]
    },
    {
      "cell_type": "code",
      "execution_count": 283,
      "metadata": {},
      "outputs": [],
      "source": [
        "a = 2\n",
        "b = 10\n",
        "\n",
        "b = a"
      ]
    },
    {
      "cell_type": "code",
      "execution_count": 291,
      "metadata": {
        "colab": {
          "base_uri": "https://localhost:8080/"
        },
        "id": "VIALc8oKNODW",
        "outputId": "fd56f26c-9cb2-4101-9aab-690a1bda7cb2"
      },
      "outputs": [],
      "source": [
        "a, b, c = (1, 2, 3)"
      ]
    },
    {
      "cell_type": "code",
      "execution_count": 292,
      "metadata": {
        "id": "M7gTkmw1NODW"
      },
      "outputs": [],
      "source": [
        "a, b = b, a # Эта и последующая запись одинаковы"
      ]
    },
    {
      "cell_type": "code",
      "execution_count": null,
      "metadata": {
        "id": "zURstHasNODW"
      },
      "outputs": [],
      "source": [
        "(a, b) = (b, a) # Эта и предыдущая запись одинаковы"
      ]
    },
    {
      "attachments": {},
      "cell_type": "markdown",
      "metadata": {
        "id": "_gg_qmvqNODX"
      },
      "source": [
        "# Словари\n",
        "_Словарь_ ( _ассоциативный массив_ ) - изменяемый контейнер. Обращение к элементу словаря - по имени (ключу) элемента. В качестве ключей могут выступать любые неизменяемые типы, в частности, строки, числа (int, long, float), кортежи."
      ]
    },
    {
      "cell_type": "code",
      "execution_count": 297,
      "metadata": {
        "colab": {
          "base_uri": "https://localhost:8080/"
        },
        "id": "K-bycpNzNODX",
        "outputId": "9371e8c3-3b95-4e57-8062-e31ba271a841"
      },
      "outputs": [
        {
          "name": "stdout",
          "output_type": "stream",
          "text": [
            "{'FirstName': 'Isac', 'Яблоко': 100}\n"
          ]
        }
      ],
      "source": [
        "person = {'FirstName':'Isac','Яблоко':100}\n",
        "print(person)"
      ]
    },
    {
      "cell_type": "code",
      "execution_count": 298,
      "metadata": {},
      "outputs": [
        {
          "data": {
            "text/plain": [
              "100"
            ]
          },
          "execution_count": 298,
          "metadata": {},
          "output_type": "execute_result"
        }
      ],
      "source": [
        "person[\"Яблоко\"]"
      ]
    },
    {
      "cell_type": "code",
      "execution_count": 23,
      "metadata": {
        "colab": {
          "base_uri": "https://localhost:8080/"
        },
        "id": "e8gwlzsWNODY",
        "outputId": "3ee87318-ed0b-486c-d5e2-15079a3c5d3e"
      },
      "outputs": [
        {
          "name": "stdout",
          "output_type": "stream",
          "text": [
            "{'FirstName': 'Isaaaaaaaaac', 'LastName': 'Newton', (1, 2): 5, 'Age': 50, 2: 123, 2.3: 2.3, 'Profession': 'Scientist', -33.5: 65535, (1, 3): [1, 2, 4], True: [1, 2, 4]}\n"
          ]
        }
      ],
      "source": [
        "person['FirstName'] = 'Isaaaaaaaaac'\n",
        "person['Profession'] = 'Scientist'\n",
        "person['Age'] = 50\n",
        "person[-33.5] = 0xFFFF\n",
        "person[(1,3)] = [1, 2, 4,]\n",
        "person[True] = [1, 2, 4,]\n",
        "print(person)"
      ]
    },
    {
      "cell_type": "code",
      "execution_count": 316,
      "metadata": {
        "colab": {
          "base_uri": "https://localhost:8080/"
        },
        "id": "Dxzt9L2XNODY",
        "outputId": "6f70f082-51e3-411f-8438-2d1bb7b66ca2"
      },
      "outputs": [
        {
          "data": {
            "text/plain": [
              "{'FirstName': 'Isaaaaaaaaac',\n",
              " 'LastName': 'Newton',\n",
              " (1, 2): '123',\n",
              " 'Age': 50,\n",
              " 2: 123,\n",
              " 2.3: 2.3,\n",
              " 'Profession': 'Scientist',\n",
              " -33.5: 65535,\n",
              " (1, 3): [1, 2, 4],\n",
              " True: [1, 2, 4]}"
            ]
          },
          "execution_count": 316,
          "metadata": {},
          "output_type": "execute_result"
        }
      ],
      "source": [
        "person[(1, 2)] = '123' # В качестве ключей используем любые неизменяемые типы\n",
        "person"
      ]
    },
    {
      "cell_type": "code",
      "execution_count": 324,
      "metadata": {
        "colab": {
          "base_uri": "https://localhost:8080/"
        },
        "id": "T-aGEqllNODZ",
        "outputId": "d5f183e2-a865-4e86-a334-923621544498"
      },
      "outputs": [
        {
          "data": {
            "text/plain": [
              "True"
            ]
          },
          "execution_count": 324,
          "metadata": {},
          "output_type": "execute_result"
        }
      ],
      "source": [
        "'Isaaaaaaaaac' in person.values()"
      ]
    },
    {
      "cell_type": "code",
      "execution_count": 325,
      "metadata": {
        "colab": {
          "base_uri": "https://localhost:8080/"
        },
        "id": "kiG7RAYFNODZ",
        "outputId": "d095137d-5c74-429e-f377-f33fc5752862"
      },
      "outputs": [
        {
          "name": "stdout",
          "output_type": "stream",
          "text": [
            "{'LastName': 'Newton', (1, 2): '123', 'Age': 50, 2: 123, 2.3: 2.3, 'Profession': 'Scientist', -33.5: 65535, (1, 3): [1, 2, 4], True: [1, 2, 4]}\n"
          ]
        }
      ],
      "source": [
        "del person['FirstName']\n",
        "print(person)"
      ]
    },
    {
      "cell_type": "code",
      "execution_count": 326,
      "metadata": {
        "colab": {
          "base_uri": "https://localhost:8080/"
        },
        "id": "t7MyqT02NODZ",
        "outputId": "f1843bbe-de0a-4ad6-fcf3-fb14a39ecfce"
      },
      "outputs": [
        {
          "data": {
            "text/plain": [
              "dict_items([('LastName', 'Newton'), ((1, 2), '123'), ('Age', 50), (2, 123), (2.3, 2.3), ('Profession', 'Scientist'), (-33.5, 65535), ((1, 3), [1, 2, 4]), (True, [1, 2, 4])])"
            ]
          },
          "execution_count": 326,
          "metadata": {},
          "output_type": "execute_result"
        }
      ],
      "source": [
        "person.items() # Метод \"items\" выводит на экран пары ключ:значение"
      ]
    },
    {
      "attachments": {},
      "cell_type": "markdown",
      "metadata": {
        "id": "ISDOdsDzNODc"
      },
      "source": [
        "# Управляющие конструкции"
      ]
    },
    {
      "attachments": {},
      "cell_type": "markdown",
      "metadata": {
        "id": "KONlQZ1DNODc"
      },
      "source": [
        "## Цикл `while`"
      ]
    },
    {
      "attachments": {},
      "cell_type": "markdown",
      "metadata": {
        "collapsed": true,
        "id": "pX8cfZhZNODd"
      },
      "source": [
        "Имеются `continue`, `break`\n"
      ]
    },
    {
      "cell_type": "code",
      "execution_count": 348,
      "metadata": {},
      "outputs": [
        {
          "name": "stdout",
          "output_type": "stream",
          "text": [
            "0.9\n"
          ]
        }
      ],
      "source": [
        "eps = 1\n",
        "while 1 + eps > 1:\n",
        "    eps = eps - 0.1\n",
        "    break\n",
        "\n",
        "print(eps)"
      ]
    },
    {
      "cell_type": "code",
      "execution_count": 353,
      "metadata": {},
      "outputs": [
        {
          "name": "stdout",
          "output_type": "stream",
          "text": [
            "Шаг номер:  0\n",
            "Шаг номер:  1\n",
            "Шаг номер:  2\n",
            "Шаг номер:  3\n",
            "Шаг номер:  4\n",
            "Шаг номер:  5\n",
            "Шаг номер:  6\n",
            "Шаг номер:  7\n",
            "Шаг номер:  8\n",
            "Шаг номер:  9\n",
            "Шаг номер:  10\n",
            "-0.09999999999999987\n"
          ]
        }
      ],
      "source": [
        "eps = 1\n",
        "i = 0\n",
        "while 1 + eps > 1:\n",
        "    eps = eps - 0.1\n",
        "    print('Шаг номер: ', i)\n",
        "    i = i + 1\n",
        "    \n",
        "\n",
        "print(eps)"
      ]
    },
    {
      "attachments": {},
      "cell_type": "markdown",
      "metadata": {
        "id": "hMNE_eM4NODd"
      },
      "source": [
        "# Цикл `for`"
      ]
    },
    {
      "cell_type": "code",
      "execution_count": 364,
      "metadata": {},
      "outputs": [],
      "source": [
        "### Вспомним как обращаться к словарю\n",
        "person = {'surname': 'Gauss', 'name': 'Karl', (1, 2): 3}"
      ]
    },
    {
      "cell_type": "code",
      "execution_count": 366,
      "metadata": {},
      "outputs": [
        {
          "data": {
            "text/plain": [
              "'Gauss'"
            ]
          },
          "execution_count": 366,
          "metadata": {},
          "output_type": "execute_result"
        }
      ],
      "source": [
        "person['surname']"
      ]
    },
    {
      "cell_type": "code",
      "execution_count": 368,
      "metadata": {
        "colab": {
          "base_uri": "https://localhost:8080/"
        },
        "id": "nIywt4UpNODe",
        "outputId": "ed834bf7-c5ac-453a-a188-701b4348467c"
      },
      "outputs": [
        {
          "name": "stdout",
          "output_type": "stream",
          "text": [
            "Gauss\n",
            "Karl\n",
            "3\n"
          ]
        }
      ],
      "source": [
        "for key in person:\n",
        "    # print(key)\n",
        "    print(person[key])"
      ]
    },
    {
      "attachments": {},
      "cell_type": "markdown",
      "metadata": {
        "id": "YHK5LpsyNODh"
      },
      "source": [
        "# Функции"
      ]
    },
    {
      "cell_type": "code",
      "execution_count": 24,
      "metadata": {
        "colab": {
          "base_uri": "https://localhost:8080/"
        },
        "id": "8gh-kx7jNODh",
        "outputId": "518924e0-e9ce-49a3-b438-5baf394a6f56"
      },
      "outputs": [],
      "source": [
        "# Можно создавать свои функции, которые используются для сокращения кода\n",
        "def some_function(a, b):\n",
        "    a = abs(a)\n",
        "    b = abs(b)\n",
        "    for i in range(1,6,2):\n",
        "        a = a + i \n",
        "        b = b + i \n",
        "    return a, b # Функция  должна возвращать то, что внутри посчитала иначе у в результате будет None"
      ]
    },
    {
      "cell_type": "code",
      "execution_count": 26,
      "metadata": {},
      "outputs": [],
      "source": [
        "a = some_function(-5,10)"
      ]
    },
    {
      "cell_type": "code",
      "execution_count": 400,
      "metadata": {
        "id": "QDSCeoTMNODh"
      },
      "outputs": [],
      "source": [
        "def fibo(B = 50):\n",
        "    # Обычный комментарий\n",
        "    '''\n",
        "    Print Fibonacci numbers less than or equal to B\n",
        "    '''\n",
        "    a, b = 0, 1\n",
        "    while b <= B:\n",
        "        print(b)\n",
        "        a, b = b, a + b\n",
        "        "
      ]
    },
    {
      "cell_type": "code",
      "execution_count": 401,
      "metadata": {
        "colab": {
          "base_uri": "https://localhost:8080/"
        },
        "id": "mtX9cyEtNODh",
        "outputId": "8a051dd7-4e30-4b57-a047-7bc3434aeeb6"
      },
      "outputs": [
        {
          "name": "stdout",
          "output_type": "stream",
          "text": [
            "1\n",
            "1\n",
            "2\n",
            "3\n",
            "5\n",
            "8\n",
            "13\n",
            "21\n",
            "34\n",
            "55\n",
            "89\n",
            "144\n",
            "233\n",
            "377\n",
            "610\n",
            "987\n"
          ]
        }
      ],
      "source": [
        "fibo(1000)"
      ]
    },
    {
      "attachments": {},
      "cell_type": "markdown",
      "metadata": {
        "id": "di5WkgalNODj"
      },
      "source": [
        "### Видимость объектов"
      ]
    },
    {
      "attachments": {},
      "cell_type": "markdown",
      "metadata": {
        "id": "6zHTgju4NODj"
      },
      "source": [
        "Имена из вызывающего контекста использовать можно, но присваивать им другие объекты нельзя.\n",
        "Объекты менять можно."
      ]
    },
    {
      "cell_type": "code",
      "execution_count": 403,
      "metadata": {},
      "outputs": [],
      "source": [
        "def fun():\n",
        "    a = 3\n",
        "    print(a)"
      ]
    },
    {
      "cell_type": "code",
      "execution_count": 408,
      "metadata": {
        "colab": {
          "base_uri": "https://localhost:8080/"
        },
        "id": "cj2mNma-NODj",
        "outputId": "3f7b393a-5162-41be-9181-1cc9ac138982"
      },
      "outputs": [
        {
          "name": "stdout",
          "output_type": "stream",
          "text": [
            "3\n",
            "123\n"
          ]
        }
      ],
      "source": [
        "a = 123\n",
        "fun()\n",
        "print(a)"
      ]
    },
    {
      "cell_type": "code",
      "execution_count": 409,
      "metadata": {
        "colab": {
          "base_uri": "https://localhost:8080/"
        },
        "id": "4IS3tVhZNODk",
        "outputId": "728abf2e-0957-40f8-d6be-817d0e4a18a5"
      },
      "outputs": [
        {
          "name": "stdout",
          "output_type": "stream",
          "text": [
            "124\n",
            "123\n"
          ]
        }
      ],
      "source": [
        "def fun():\n",
        "    print(a + 1)  # Так можно\n",
        "    # a = 3  # Так нельзя\n",
        "\n",
        "    \n",
        "a = 123\n",
        "fun()    \n",
        "print(a)"
      ]
    },
    {
      "cell_type": "code",
      "execution_count": 414,
      "metadata": {
        "colab": {
          "base_uri": "https://localhost:8080/"
        },
        "id": "yiO7Ehs7NODk",
        "outputId": "bba5955e-3fc3-4781-edfa-d8f13da2ff17"
      },
      "outputs": [
        {
          "name": "stdout",
          "output_type": "stream",
          "text": [
            "['NewValue0', 1, 2, 'NewValue3']\n"
          ]
        }
      ],
      "source": [
        "def fun():\n",
        "    lst[0] = 'NewValue0'     # Можно!\n",
        "    lst.append('NewValue3')\n",
        "\n",
        "lst = [0, 1, 2]\n",
        "fun()    \n",
        "print(lst)"
      ]
    },
    {
      "attachments": {},
      "cell_type": "markdown",
      "metadata": {
        "id": "XkokjiVRNODk"
      },
      "source": [
        "# Работа с модулями"
      ]
    },
    {
      "attachments": {},
      "cell_type": "markdown",
      "metadata": {
        "id": "9YhUFdMJNODk"
      },
      "source": [
        "```python\n",
        "import модуль\n",
        "from модуль import что-то конкретное\n",
        "from модуль import *\n",
        "import модуль as псевдоним\n",
        "```"
      ]
    },
    {
      "cell_type": "code",
      "execution_count": 415,
      "metadata": {
        "colab": {
          "base_uri": "https://localhost:8080/"
        },
        "id": "N3PtkbA2NODk",
        "outputId": "1254f280-a71e-49b4-de52-fbd6fc9d61ca"
      },
      "outputs": [
        {
          "name": "stdout",
          "output_type": "stream",
          "text": [
            "3.141592653589793 2.718281828459045\n"
          ]
        }
      ],
      "source": [
        "import math\n",
        "print(math.pi, math.exp(1))"
      ]
    },
    {
      "cell_type": "code",
      "execution_count": null,
      "metadata": {
        "colab": {
          "base_uri": "https://localhost:8080/"
        },
        "id": "hsJ_g9GqNODl",
        "outputId": "bba7e007-1305-4f46-bf11-bb35d443eecd"
      },
      "outputs": [],
      "source": [
        "from math import pi, exp\n",
        "print(pi, exp(1))"
      ]
    },
    {
      "cell_type": "code",
      "execution_count": null,
      "metadata": {
        "colab": {
          "base_uri": "https://localhost:8080/"
        },
        "id": "-UwPaN-ENODl",
        "outputId": "6997d6bf-a5a6-45da-b7da-de140eddc5f8"
      },
      "outputs": [],
      "source": [
        "from math import *\n",
        "print(pi, exp(1), sin(pi), sqrt(2))"
      ]
    },
    {
      "attachments": {},
      "cell_type": "markdown",
      "metadata": {
        "id": "4o0OAGumNODl"
      },
      "source": [
        "Любой файл с кодом на питоне - это уже модуль.\n",
        "```python\n",
        "import модуль\n",
        "```\n",
        "отправляет его на выполнение.\n",
        "\n",
        "Несколько модулей можно объединять в пакеты."
      ]
    }
  ],
  "metadata": {
    "colab": {
      "include_colab_link": true,
      "provenance": []
    },
    "kernelspec": {
      "display_name": "Python 3",
      "language": "python",
      "name": "python3"
    },
    "language_info": {
      "codemirror_mode": {
        "name": "ipython",
        "version": 3
      },
      "file_extension": ".py",
      "mimetype": "text/x-python",
      "name": "python",
      "nbconvert_exporter": "python",
      "pygments_lexer": "ipython3",
      "version": "3.10.12"
    }
  },
  "nbformat": 4,
  "nbformat_minor": 0
}

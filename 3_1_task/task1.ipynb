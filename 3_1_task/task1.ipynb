{
 "cells": [
  {
   "cell_type": "markdown",
   "metadata": {},
   "source": [
    "# Задание"
   ]
  },
  {
   "cell_type": "markdown",
   "metadata": {},
   "source": [
    "a) Написать программу, которая удаляет из списка все элементы, стоящие на четных позициях."
   ]
  },
  {
   "cell_type": "code",
   "execution_count": 22,
   "metadata": {},
   "outputs": [
    {
     "name": "stdout",
     "output_type": "stream",
     "text": [
      "[1, 3, 'hhh']\n"
     ]
    }
   ],
   "source": [
    "lst = [0, 1, 2, 3, 4, 'hhh']\n",
    "lst = [x for x in lst if lst.index(x)%2] \n",
    "print(lst)"
   ]
  },
  {
   "cell_type": "markdown",
   "metadata": {},
   "source": [
    "b) Написать программу, которая считывает список слов и находит слова, содержащие более трех гласных букв."
   ]
  },
  {
   "cell_type": "code",
   "execution_count": 1,
   "metadata": {},
   "outputs": [
    {
     "name": "stdout",
     "output_type": "stream",
     "text": [
      "['предложения', 'которое']\n"
     ]
    }
   ],
   "source": [
    "import re\n",
    "str = \"оое очень длинное    предложения, которое я напис9ал\"\n",
    "words = re.split(r'[^a-zA-Zа-яА-ЯёЁ]', str)\n",
    "words_with_3_vowels = []\n",
    "vowels_list = ['a', 'e', 'o', 'u', 'а', 'у', 'о', 'ы', 'э', 'я', 'ю', 'ё', 'и','е']\n",
    "for word in words:\n",
    "    if len(word)>3:\n",
    "        counter = 0\n",
    "        for current_letter in word:\n",
    "            if (current_letter in vowels_list):\n",
    "                counter = counter + 1  \n",
    "        if counter > 3:\n",
    "            words_with_3_vowels.append(word)    \n",
    "\n",
    "print(words_with_3_vowels)\n"
   ]
  },
  {
   "cell_type": "markdown",
   "metadata": {},
   "source": [
    "c) Написать программу, которая находит второй по величине элемент в списке."
   ]
  },
  {
   "cell_type": "code",
   "execution_count": 120,
   "metadata": {},
   "outputs": [
    {
     "name": "stdout",
     "output_type": "stream",
     "text": [
      "2.5\n"
     ]
    }
   ],
   "source": [
    "nums = [1, 4, -1, 2.5]\n",
    "nums.sort(reverse=True)\n",
    "print(nums[1])"
   ]
  },
  {
   "cell_type": "markdown",
   "metadata": {},
   "source": [
    "d) Написать программу, которая удаляет из списка все дубликаты."
   ]
  },
  {
   "cell_type": "code",
   "execution_count": 124,
   "metadata": {},
   "outputs": [
    {
     "name": "stdout",
     "output_type": "stream",
     "text": [
      "{'a', 'x', 'xx'}\n"
     ]
    }
   ],
   "source": [
    "list = ['x', 'a', 'x', 'xx']\n",
    "list_unique = set(list)\n",
    "print(list_unique)"
   ]
  },
  {
   "cell_type": "markdown",
   "metadata": {},
   "source": [
    "e) Написать программу, которая считывает данные из CSV-файла и создает словарь, где ключами являются значения в столбце «Name», а значениями — соответствующие им словари с информацией о поле, возрасте и зарплате."
   ]
  },
  {
   "cell_type": "markdown",
   "metadata": {},
   "source": [
    "Примеры выводов"
   ]
  },
  {
   "cell_type": "code",
   "execution_count": 145,
   "metadata": {},
   "outputs": [
    {
     "name": "stdout",
     "output_type": "stream",
     "text": [
      "Игорь\n"
     ]
    }
   ],
   "source": [
    "human_growth = [\n",
    "    {'name':'Аня', 'growth': 186},\n",
    "    {'name':'Ефим', 'growth': 205},\n",
    "    {'name':'Игорь', 'growth': 155},\n",
    "    {'name':'Артём', 'growth': 174},\n",
    "]\n",
    "print(human_growth[2]['name'])#Обратимся к какому-либо элементу"
   ]
  },
  {
   "cell_type": "code",
   "execution_count": 146,
   "metadata": {},
   "outputs": [],
   "source": [
    "users = {\n",
    "'Иван':{\n",
    "        'city':'Екатеринбург',\n",
    "        'sex':'Мужской',\n",
    "        'age':'30'\n",
    "        },\n",
    "'Петя':{\n",
    "        'city':'Москва',\n",
    "        'sex':'Мужской',\n",
    "        'age':'25'\n",
    "        }\n",
    "}"
   ]
  },
  {
   "cell_type": "markdown",
   "metadata": {},
   "source": [
    "решение"
   ]
  },
  {
   "cell_type": "code",
   "execution_count": 1,
   "metadata": {},
   "outputs": [
    {
     "name": "stdout",
     "output_type": "stream",
     "text": [
      "{'Володя': {'sex': 'м', 'age': '22', 'salary': '300000'}, 'Инга': {'sex': 'ж', 'age': '18', 'salary': '20000'}}\n"
     ]
    }
   ],
   "source": [
    "import csv\n",
    "with open('file.csv', newline='\\n') as myfile:\n",
    "    reader = csv.reader(myfile, delimiter= ' ', quotechar='|')\n",
    "    dict_users = {rows[0]:{'sex': rows[1], 'age': rows[2], 'salary': rows[3]}for rows in reader}\n",
    "    print(dict_users)"
   ]
  }
 ],
 "metadata": {
  "kernelspec": {
   "display_name": "Python 3",
   "language": "python",
   "name": "python3"
  },
  "language_info": {
   "codemirror_mode": {
    "name": "ipython",
    "version": 3
   },
   "file_extension": ".py",
   "mimetype": "text/x-python",
   "name": "python",
   "nbconvert_exporter": "python",
   "pygments_lexer": "ipython3",
   "version": "3.10.12"
  }
 },
 "nbformat": 4,
 "nbformat_minor": 2
}

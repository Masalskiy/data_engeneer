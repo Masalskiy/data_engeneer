{
 "cells": [
  {
   "cell_type": "markdown",
   "metadata": {},
   "source": [
    "объединение списков"
   ]
  },
  {
   "cell_type": "code",
   "execution_count": 3,
   "metadata": {},
   "outputs": [
    {
     "name": "stdout",
     "output_type": "stream",
     "text": [
      "[1, 2, 3, 4]\n"
     ]
    }
   ],
   "source": [
    "lst = [[1,2], [3,4]]\n",
    "print(sum(lst, []))"
   ]
  },
  {
   "cell_type": "markdown",
   "metadata": {},
   "source": [
    "приоритет and выше or"
   ]
  },
  {
   "cell_type": "code",
   "execution_count": 4,
   "metadata": {},
   "outputs": [
    {
     "name": "stdout",
     "output_type": "stream",
     "text": [
      "true\n"
     ]
    }
   ],
   "source": [
    "var1 = True\n",
    "var2 = False\n",
    "var3 = False\n",
    "\n",
    "if var1 or var2 and var3:\n",
    "    print(\"true\")\n",
    "else:\n",
    "    print(\"false\")"
   ]
  },
  {
   "cell_type": "markdown",
   "metadata": {},
   "source": [
    "разная видимость переменных"
   ]
  },
  {
   "cell_type": "code",
   "execution_count": 5,
   "metadata": {},
   "outputs": [
    {
     "name": "stdout",
     "output_type": "stream",
     "text": [
      "20\n",
      "9\n"
     ]
    }
   ],
   "source": [
    "a = 9\n",
    "def add():\n",
    "    a = 10\n",
    "    a = a + 10\n",
    "    print(a)\n",
    "add()\n",
    "print(a)"
   ]
  },
  {
   "cell_type": "markdown",
   "metadata": {},
   "source": [
    "удаляется первый элемент, а не 0"
   ]
  },
  {
   "cell_type": "code",
   "execution_count": 6,
   "metadata": {},
   "outputs": [
    {
     "name": "stdout",
     "output_type": "stream",
     "text": [
      "[2, 3]\n"
     ]
    }
   ],
   "source": [
    "List = [1.0, 2, 3]\n",
    "List.remove(1)\n",
    "print(List)"
   ]
  },
  {
   "cell_type": "code",
   "execution_count": 27,
   "metadata": {},
   "outputs": [
    {
     "name": "stdout",
     "output_type": "stream",
     "text": [
      "Секретный текст\n"
     ]
    }
   ],
   "source": [
    "class A:\n",
    "    __secret = \"Секретный текст\"\n",
    "    def __init__(self, x):\n",
    "        self.x = x\n",
    "\n",
    "a = A(13)\n",
    "\n",
    "print(a._A__secret)"
   ]
  },
  {
   "cell_type": "markdown",
   "metadata": {},
   "source": [
    "унаследованы от словаря"
   ]
  },
  {
   "cell_type": "code",
   "execution_count": 18,
   "metadata": {},
   "outputs": [
    {
     "name": "stdout",
     "output_type": "stream",
     "text": [
      "{'test': 7}\n"
     ]
    }
   ],
   "source": [
    "class demo(dict):\n",
    "    def __test__(self, key):\n",
    "        return[]\n",
    "a = demo()\n",
    "a['test'] = 7\n",
    "print(a)"
   ]
  },
  {
   "cell_type": "code",
   "execution_count": 44,
   "metadata": {},
   "outputs": [
    {
     "name": "stdout",
     "output_type": "stream",
     "text": [
      "{2, 2}\n"
     ]
    }
   ],
   "source": [
    "class B:\n",
    "    n = 0\n",
    "    def __str__(self):\n",
    "        return '1'\n",
    "    def __repr__(self):\n",
    "        return '2'\n",
    "    \n",
    "print({B(), B()})"
   ]
  },
  {
   "cell_type": "code",
   "execution_count": 10,
   "metadata": {},
   "outputs": [
    {
     "name": "stdout",
     "output_type": "stream",
     "text": [
      "50\n",
      "51\n",
      "50\n",
      "24\n"
     ]
    }
   ],
   "source": [
    "import sys\n",
    "str = \"ff\"\n",
    "c = 'f'\n",
    "b = False\n",
    "\n",
    "print(sys.getsizeof(c))\n",
    "print(sys.getsizeof(str))\n",
    "print(sys.getsizeof(chr(65)))\n",
    "print(sys.getsizeof(b))\n"
   ]
  },
  {
   "cell_type": "code",
   "execution_count": 11,
   "metadata": {},
   "outputs": [
    {
     "name": "stdout",
     "output_type": "stream",
     "text": [
      "0.6666666666666666\n"
     ]
    }
   ],
   "source": [
    "print(2/3)"
   ]
  }
 ],
 "metadata": {
  "kernelspec": {
   "display_name": ".venv",
   "language": "python",
   "name": "python3"
  },
  "language_info": {
   "codemirror_mode": {
    "name": "ipython",
    "version": 3
   },
   "file_extension": ".py",
   "mimetype": "text/x-python",
   "name": "python",
   "nbconvert_exporter": "python",
   "pygments_lexer": "ipython3",
   "version": "3.10.12"
  }
 },
 "nbformat": 4,
 "nbformat_minor": 2
}
